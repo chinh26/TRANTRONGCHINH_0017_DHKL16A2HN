{
 "cells": [
  {
   "cell_type": "markdown",
   "id": "bc33a197",
   "metadata": {},
   "source": [
    "# Mã hóa và giải mã bằng AES "
   ]
  },
  {
   "cell_type": "code",
   "execution_count": 1,
   "id": "688d5919",
   "metadata": {},
   "outputs": [
    {
     "name": "stdout",
     "output_type": "stream",
     "text": [
      "Bài thực hành 1 : \n",
      "Văn bản mã hóa (AES): b'\\xf8\\xf66\\x1e\\xc6ST\\xe5\\xb2\\x1bBQ\\xce\\xb8\\x8c\\x00\\xedR\\xed\\xefP\\xc7\\xca\\x93eY\\x95\\xcbk\\xd48\\xe8\\x11\\x98?\\x8f\\xbb\\xe8W\\x03\\xa4\\'R\\ni\\t\\xa5\\xa0]\\xd0\\x8f\\'G\\'\\x9co\\x8d\\x8cqt\\\\.\"<'\n",
      "Thời gian mã hóa AES: 0.0 giây\n",
      "Văn bản giải mã (AES): Hello, this is a test message for AES encryption!\n",
      "Thời gian giải mã AES: 0.0 giây\n"
     ]
    }
   ],
   "source": [
    "from Crypto.Cipher import AES\n",
    "from Crypto.Random import get_random_bytes\n",
    "from Crypto.Util.Padding import pad, unpad\n",
    "import time\n",
    "\n",
    "# Tạo khóa mã hóa 128-bit và khởi tạo AES\n",
    "key = get_random_bytes(16)\n",
    "cipher = AES.new(key, AES.MODE_CBC)\n",
    "\n",
    "plaintext = b\"Hello, this is a test message for AES encryption!\"\n",
    "\n",
    "# Đo thời gian mã hóa AES\n",
    "print(\"Bài thực hành 1 : \")\n",
    "start_time = time.time()\n",
    "ciphertext = cipher.encrypt(pad(plaintext, AES.block_size))\n",
    "end_time = time.time()\n",
    "aes_encryption_time = end_time - start_time\n",
    "\n",
    "print(\"Văn bản mã hóa (AES):\", ciphertext)\n",
    "print(\"Thời gian mã hóa AES:\", aes_encryption_time, \"giây\")\n",
    "\n",
    "# Giải mã và đo thời gian giải mã AES\n",
    "start_time = time.time()\n",
    "decipher = AES.new(key, AES.MODE_CBC, cipher.iv)\n",
    "decrypted_text = unpad(decipher.decrypt(ciphertext), AES.block_size)\n",
    "end_time = time.time()\n",
    "\n",
    "aes_decryption_time = end_time - start_time\n",
    "\n",
    "print(\"Văn bản giải mã (AES):\", decrypted_text.decode())\n",
    "print(\"Thời gian giải mã AES:\", aes_decryption_time, \"giây\")\n"
   ]
  },
  {
   "cell_type": "markdown",
   "id": "7674434c",
   "metadata": {},
   "source": [
    "# # Mã hóa và giải mã bằng RSA "
   ]
  },
  {
   "cell_type": "code",
   "execution_count": 2,
   "id": "ddd280f8",
   "metadata": {},
   "outputs": [
    {
     "name": "stdout",
     "output_type": "stream",
     "text": [
      "Khóa AES sau khi mã hóa bằng RSA: b'9,_\\xb34Y\\x01\\xb7\\xa9N\\x8a@H\\x9b\\x0f\\xa2v\\x89,\\x8aD~\\x0b\\x7f$*\\xa4$\\x1d\\xd7aj\\xb1\\xee\\xeb\\x95\\xb8A\\x80\\xaa\\xf8\\xed\\xfc\\x07\\x01\\xc0\\xf6,\\xe2i\\xd6\\x8a\\xc7\\x16GI[\\xce\\xacE\\xe5\\xa4\\x10\\x06M9\\x83a\\x91J\\x82\\xbc\\x8d\\xdf\\xee\\xbc\\x86\\x1ew5\\xad\\x9d\\xff<y6\\x81\\xda\\xca\\xfa\\x12|\"\\xb6\\xcb\\xff\\xd0\\n\\x93\\xdd\\xc1\\xacP\\xbf\\xf6\\xe4P\\xf1\\xf1 \\x0c\\xfc\\x9567\\x05\\xd9\\xef\\x85\\xf4o\\xa3S \\x8c\\xc6\\xcf\\xe5\\xa9\\xe1Jw\\xc4Kb\\xc3J\\x91m\\xd0\\xdc\\xaf\\xdf\\x02kJ\\x86\\xf6\\x92\\xb3\\xad,\\xc6g\\xd2R\\xd2\\x89\\xdf\\xe9\\x1f\\xdb\\xf6\\xa7*\\x85<\\x89\\x84\\x97\\xa7\\x83\\x0eC\\x00\\xe2\\xbai\\xa3gO\\xb3\\xda\\x8c\\xado\\x1c\\xae\\x8fW\\xec\\xb1!\\xf2\\xa6\\xc3\\xa2\\x9c\\xe3Z\\x06Y\\xa6\\x8f\\xb2\\xb2\\xa1\\xfb\\x1b\\xabw\\x12z\\xf4G\\xf1\\xd2\\xbc+\\xbb\\xf4\\xce\\xbdkaUR<o\\x03\\xbf\\x84\\xb7#\\xc0\\x1d<\\t\\xdd4`\\xaf\\x8d\\x90\\x85\\xb7\\x1de3\\r)P&\\xd8\\xd9]'\n",
      "Thời gian mã hóa RSA: 0.0023193359375 giây\n",
      "Khóa AES sau khi giải mã: b'R\\xd4\\xab\\x90\\xa7\\x8b\\x87\\xebc\\x8b0\\xbf\\xb3\\x99\\xcc\\xe0'\n",
      "Thời gian giải mã RSA: 0.01050424575805664 giây\n"
     ]
    }
   ],
   "source": [
    "from Crypto.PublicKey import RSA\n",
    "from Crypto.Cipher import PKCS1_OAEP\n",
    "\n",
    "# Tạo cặp khóa RSA\n",
    "key = RSA.generate(2048)\n",
    "private_key = key.export_key()\n",
    "public_key = key.publickey().export_key()\n",
    "\n",
    "# Mã hóa khóa AES bằng khóa công khai RSA và đo thời gian\n",
    "aes_key = get_random_bytes(16)\n",
    "cipher_rsa = PKCS1_OAEP.new(RSA.import_key(public_key))\n",
    "start_time = time.time()\n",
    "encrypted_aes_key = cipher_rsa.encrypt(aes_key)\n",
    "end_time = time.time()\n",
    "rsa_encryption_time = end_time - start_time\n",
    "\n",
    "print(\"Khóa AES sau khi mã hóa bằng RSA:\", encrypted_aes_key)\n",
    "print(\"Thời gian mã hóa RSA:\", rsa_encryption_time, \"giây\")\n",
    "\n",
    "# Giải mã khóa AES bằng khóa bí mật RSA và đo thời gian\n",
    "decipher_rsa = PKCS1_OAEP.new(RSA.import_key(private_key))\n",
    "\n",
    "start_time = time.time()\n",
    "decrypted_aes_key = decipher_rsa.decrypt(encrypted_aes_key)\n",
    "end_time = time.time()\n",
    "rsa_decryption_time = end_time - start_time\n",
    "\n",
    "print(\"Khóa AES sau khi giải mã:\", decrypted_aes_key)\n",
    "print(\"Thời gian giải mã RSA:\", rsa_decryption_time, \"giây\")\n"
   ]
  },
  {
   "cell_type": "markdown",
   "id": "dc8a461d",
   "metadata": {},
   "source": [
    "# So sánh thời gian thực thi giữa AES và RSA "
   ]
  },
  {
   "cell_type": "code",
   "execution_count": 3,
   "id": "a0f0c16e",
   "metadata": {},
   "outputs": [
    {
     "name": "stdout",
     "output_type": "stream",
     "text": [
      "Khóa AES sau khi giải mã: b'R\\xd4\\xab\\x90\\xa7\\x8b\\x87\\xebc\\x8b0\\xbf\\xb3\\x99\\xcc\\xe0'\n",
      "Thời gian giải mã RSA: 0.01050424575805664 giây\n"
     ]
    }
   ],
   "source": [
    "from Crypto.PublicKey import RSA\n",
    "from Crypto.Cipher import PKCS1_OAEP\n",
    "\n",
    "# Tạo cặp khóa RSA\n",
    "key = RSA.generate(2048)\n",
    "private_key = key.export_key()\n",
    "public_key = key.publickey().export_key()\n",
    "\n",
    "# Mã hóa khóa AES bằng khóa công khai RSA và đo thời gian\n",
    "aes_key = get_random_bytes(16)\n",
    "cipher_rsa = PKCS1_OAEP.new(RSA.import_key(public_key))\n",
    "\n",
    "start_time = time.time()\n",
    "\n",
    "print(\"Khóa AES sau khi giải mã:\", decrypted_aes_key)\n",
    "print(\"Thời gian giải mã RSA:\", rsa_decryption_time, \"giây\")\n"
   ]
  }
 ],
 "metadata": {
  "kernelspec": {
   "display_name": "Python 3",
   "language": "python",
   "name": "python3"
  },
  "language_info": {
   "codemirror_mode": {
    "name": "ipython",
    "version": 3
   },
   "file_extension": ".py",
   "mimetype": "text/x-python",
   "name": "python",
   "nbconvert_exporter": "python",
   "pygments_lexer": "ipython3",
   "version": "3.11.9"
  }
 },
 "nbformat": 4,
 "nbformat_minor": 5
}
