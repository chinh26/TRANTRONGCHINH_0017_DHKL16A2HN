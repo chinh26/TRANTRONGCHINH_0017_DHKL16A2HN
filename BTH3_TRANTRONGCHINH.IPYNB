{
 "cells": [
  {
   "cell_type": "code",
   "execution_count": null,
   "id": "10b82d64",
   "metadata": {},
   "outputs": [
    {
     "name": "stdout",
     "output_type": "stream",
     "text": [
      "SECRET: XCTZLF3YVS4UXMOUNEI6FJNY3SUTTN32\n"
     ]
    }
   ],
   "source": [
    "import pyotp\n",
    "import qrcode\n",
    "\n",
    "# 1. Sinh secret key\n",
    "secret = pyotp.random_base32()\n",
    "print(\"SECRET:\", secret)\n",
    "\n",
    "# 2. Ghi secret ra file để dùng lại\n",
    "with open(\"secret.txt\", \"w\") as f:\n",
    "    f.write(secret)\n",
    "\n",
    "# 3. Tạo URI chuẩn otpauth\n",
    "totp = pyotp.TOTP(secret)\n",
    "uri = totp.provisioning_uri(name=\"user@example.com\",\n",
    "                           issuer_name=\"MyMFAApp\")\n",
    "\n"
   ]
  },
  {
   "cell_type": "code",
   "execution_count": null,
   "id": "3abed21a",
   "metadata": {},
   "outputs": [
    {
     "name": "stdout",
     "output_type": "stream",
     "text": [
      "Sai mật khẩu! Thoát chương trình.\n",
      "Đã tạo QR code. Hãy quét ảnh 'otp_qr.png' bằng Google Authenticator.\n",
      "Đang chờ bạn quét mã QR bằng ứng dụng OTP...\n",
      "Xác thực đa yếu tố (MFA) thành công!\n"
     ]
    },
    {
     "ename": "",
     "evalue": "",
     "output_type": "error",
     "traceback": [
      "\u001b[1;31mThe Kernel crashed while executing code in the current cell or a previous cell. \n",
      "\u001b[1;31mPlease review the code in the cell(s) to identify a possible cause of the failure. \n",
      "\u001b[1;31mClick <a href='https://aka.ms/vscodeJupyterKernelCrash'>here</a> for more info. \n",
      "\u001b[1;31mView Jupyter <a href='command:jupyter.viewOutput'>log</a> for further details."
     ]
    }
   ],
   "source": [
    "import hashlib\n",
    "import pyotp\n",
    "import time\n",
    "import qrcode\n",
    "\n",
    "# === BƯỚC 1: XÁC THỰC MẬT KHẨU ===\n",
    "\n",
    "# Giả sử đây là mật khẩu đúng đã lưu (bạn đặt sẵn)\n",
    "stored_password = hashlib.sha256(b\"234678\").hexdigest()\n",
    "\n",
    "# Nhập mật khẩu\n",
    "password = input(\"Nhập mật khẩu: \")\n",
    "hashed_password = hashlib.sha256(password.encode()).hexdigest()\n",
    "\n",
    "if hashed_password != stored_password:\n",
    "    print(\"Sai mật khẩu! Thoát chương trình.\")\n",
    "    exit()\n",
    "else:\n",
    "    print(\"Mật khẩu đúng! Tiếp tục sang bước xác thực OTP.\")\n",
    "\n",
    "# === BƯỚC 2: XÁC THỰC OTP ===\n",
    "\n",
    "# Giả sử người dùng đã đăng ký tài khoản => ta sinh secret lưu lại\n",
    "# Trong thực tế, secret này chỉ sinh một lần và lưu vào DB\n",
    "secret = pyotp.random_base32()\n",
    "\n",
    "# Tạo đối tượng OTP\n",
    "totp = pyotp.TOTP(secret)\n",
    "\n",
    "# Sinh mã URI tương thích Google Authenticator\n",
    "otp_uri = totp.provisioning_uri(name=\"username@example.com\", issuer_name=\"DemoMFA App\")\n",
    "\n",
    "# Sinh QR code từ URI (dùng app Google Authenticator để quét)\n",
    "img = qrcode.make(otp_uri)\n",
    "img.save(\"otp_qr.png\")\n",
    "print(\"Đã tạo QR code. Hãy quét ảnh 'otp_qr.png' bằng Google Authenticator.\")\n",
    "\n",
    "# Đợi 20 giây để người dùng quét QR\n",
    "print(\"Đang chờ bạn quét mã QR bằng ứng dụng OTP...\")\n",
    "time.sleep(20)\n",
    "\n",
    "# Nhập mã OTP từ người dùng\n",
    "otp_input = input(\"Nhập mã OTP hiển thị trên ứng dụng: \")\n",
    "\n",
    "# Xác thực mã\n",
    "if totp.verify(otp_input):\n",
    "    print(\"Xác thực đa yếu tố (MFA) thành công!\")\n",
    "else:\n",
    "    print(\"Mã OTP không hợp lệ! Thoát.\")"
   ]
  }
 ],
 "metadata": {
  "kernelspec": {
   "display_name": "Python 3",
   "language": "python",
   "name": "python3"
  },
  "language_info": {
   "codemirror_mode": {
    "name": "ipython",
    "version": 3
   },
   "file_extension": ".py",
   "mimetype": "text/x-python",
   "name": "python",
   "nbconvert_exporter": "python",
   "pygments_lexer": "ipython3",
   "version": "3.11.9"
  }
 },
 "nbformat": 4,
 "nbformat_minor": 5
}
