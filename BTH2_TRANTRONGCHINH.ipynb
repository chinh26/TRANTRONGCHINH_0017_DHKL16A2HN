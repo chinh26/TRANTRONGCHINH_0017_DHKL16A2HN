{
 "cells": [
  {
   "cell_type": "code",
   "execution_count": 4,
   "id": "31efc520",
   "metadata": {},
   "outputs": [
    {
     "name": "stdout",
     "output_type": "stream",
     "text": [
      "Xác thực thành công!\n"
     ]
    }
   ],
   "source": [
    "import hashlib\n",
    "\n",
    "# Mật khẩu lưu trữ dưới dạng mã băm SHA-256\n",
    "stored_password = hashlib.sha256(b\"12345678\").hexdigest()\n",
    "\n",
    "# Yêu cầu người dùng nhập mật khẩu\n",
    "password = input(\"Nhập mật khẩu: \")\n",
    "hashed_password = hashlib.sha256(password.encode()).hexdigest()\n",
    "\n",
    "# So sánh mật khẩu nhập với mật khẩu đã băm lưu trữ\n",
    "if hashed_password == stored_password:\n",
    "    print(\"Xác thực thành công!\")\n",
    "else:\n",
    "    print(\"Xác thực thất bại!\")\n"
   ]
  },
  {
   "cell_type": "code",
   "execution_count": 12,
   "id": "05a0a726",
   "metadata": {},
   "outputs": [
    {
     "name": "stdout",
     "output_type": "stream",
     "text": [
      "Khóa bí mật của bạn là: QJZC5XSXGOQK3FKELVFJO7H4ZKO2SI7L\n",
      "Mã OTP của bạn là: 229028\n",
      "Xác thực thành công!\n"
     ]
    }
   ],
   "source": [
    "import pyotp\n",
    "import time\n",
    "\n",
    "# Tạo khóa bí mật\n",
    "secret = pyotp.random_base32()\n",
    "totp = pyotp.TOTP(secret)\n",
    "\n",
    "# In khóa bí mật (nếu muốn lưu lại để verify sau này)\n",
    "print(\"Khóa bí mật của bạn là:\", secret)\n",
    "\n",
    "# Tạo và in mã OTP hiện tại\n",
    "print(\"Mã OTP của bạn là:\", totp.now())\n",
    "\n",
    "# Yêu cầu nhập mã OTP từ người dùng\n",
    "otp_input = input(\"Nhập mã OTP: \").strip()\n",
    "\n",
    "# Xác thực OTP\n",
    "if totp.verify(otp_input):\n",
    "    print(\"Xác thực thành công!\")\n",
    "else:\n",
    "    print(\"Xác thực thất bại!\")\n"
   ]
  },
  {
   "cell_type": "code",
   "execution_count": 18,
   "id": "ebdc9ff3",
   "metadata": {},
   "outputs": [
    {
     "name": "stdout",
     "output_type": "stream",
     "text": [
      "Xác thực mật khẩu thành công! Chuyển sang xác thực bằng OTP.\n",
      "\n",
      "Khóa bí mật (lưu lại để verify lần sau): NOG7CL47IPZ5KWZLYBW2UKTOS7LOR73E\n",
      "Mã OTP của bạn là: 680140\n",
      "Xác thực hai yếu tố thành công!\n"
     ]
    }
   ],
   "source": [
    "import hashlib\n",
    "import pyotp\n",
    "import time\n",
    "import sys\n",
    "\n",
    "# Bước 1: Xác thực bằng mật khẩu\n",
    "stored_password = hashlib.sha256(b\"123456789\").hexdigest()\n",
    "\n",
    "password = input(\"Nhập mật khẩu: \").strip()\n",
    "hashed_password = hashlib.sha256(password.encode()).hexdigest()\n",
    "\n",
    "if hashed_password != stored_password:\n",
    "    print(\"Xác thực mật khẩu thất bại!\")\n",
    "    sys.exit(1)\n",
    "else:\n",
    "    print(\"Xác thực mật khẩu thành công! Chuyển sang xác thực bằng OTP.\\n\")\n",
    "\n",
    "# Bước 2: Xác thực hai yếu tố (2FA) với mã OTP\n",
    "# Tạo (hoặc load) khóa bí mật cho user\n",
    "# Lần đầu bạn sẽ tạo mới, rồi lưu 'secret' vào database để lần sau verify tiếp\n",
    "secret = pyotp.random_base32()\n",
    "print(\"Khóa bí mật (lưu lại để verify lần sau):\", secret)\n",
    "\n",
    "totp = pyotp.TOTP(secret)\n",
    "\n",
    "# Sinh và in mã OTP (trong thực tế bạn sẽ gửi SMS/Email hoặc tạo QR code)\n",
    "print(\"Mã OTP của bạn là:\", totp.now())\n",
    "\n",
    "# Đợi chút (tuỳ chọn, để user kịp nhập)\n",
    "# time.sleep(1)\n",
    "\n",
    "# Nhập và verify OTP\n",
    "otp_input = input(\"Nhập mã OTP: \").strip()\n",
    "if totp.verify(otp_input, valid_window=1):\n",
    "    print(\"Xác thực hai yếu tố thành công!\")\n",
    "else:\n",
    "    print(\"Xác thực bước 2 (OTP) thất bại!\")\n"
   ]
  }
 ],
 "metadata": {
  "kernelspec": {
   "display_name": "Python 3",
   "language": "python",
   "name": "python3"
  },
  "language_info": {
   "codemirror_mode": {
    "name": "ipython",
    "version": 3
   },
   "file_extension": ".py",
   "mimetype": "text/x-python",
   "name": "python",
   "nbconvert_exporter": "python",
   "pygments_lexer": "ipython3",
   "version": "3.11.9"
  }
 },
 "nbformat": 4,
 "nbformat_minor": 5
}
